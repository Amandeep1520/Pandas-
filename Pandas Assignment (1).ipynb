{
 "cells": [
  {
   "cell_type": "markdown",
   "id": "7cbe4b98",
   "metadata": {
    "id": "XHvoVqK5mYA-"
   },
   "source": [
    "# <center>Pandas Assignment</center>"
   ]
  },
  {
   "cell_type": "markdown",
   "id": "b3af3f29",
   "metadata": {
    "id": "v9Qb2_aumYBF"
   },
   "source": [
    "Import pandas and numpy with their aliases"
   ]
  },
  {
   "cell_type": "code",
   "execution_count": 16,
   "id": "b56ffb54",
   "metadata": {
    "id": "ihFP1wXZmYBF"
   },
   "outputs": [],
   "source": [
    "import pandas as pd\n",
    "import numpy as np"
   ]
  },
  {
   "cell_type": "markdown",
   "id": "34de3173",
   "metadata": {
    "id": "0b8hUBhTmYBG"
   },
   "source": [
    "Create a variable a = pd.Series([ 100, 200, 300, 400])"
   ]
  },
  {
   "cell_type": "code",
   "execution_count": 17,
   "id": "38c3a440",
   "metadata": {
    "id": "hzvzkbNYmYBH"
   },
   "outputs": [],
   "source": [
    "import pandas as pd\n",
    "\n",
    "a = pd.Series([100, 200, 300, 400])"
   ]
  },
  {
   "cell_type": "markdown",
   "id": "732007e3",
   "metadata": {
    "id": "BSyNFbitmYBH"
   },
   "source": [
    "Print a, and data type"
   ]
  },
  {
   "cell_type": "code",
   "execution_count": 18,
   "id": "44f7f10e",
   "metadata": {
    "id": "GMmFsjPamYBH",
    "outputId": "e21bf8f8-3d7a-4ec6-ea93-7885f9b0a648"
   },
   "outputs": [
    {
     "data": {
      "text/plain": [
       "0    100\n",
       "1    200\n",
       "2    300\n",
       "3    400\n",
       "dtype: int64"
      ]
     },
     "execution_count": 18,
     "metadata": {},
     "output_type": "execute_result"
    }
   ],
   "source": [
    "a\n",
    "\n"
   ]
  },
  {
   "cell_type": "markdown",
   "id": "7207c05c",
   "metadata": {
    "id": "z0FryxOXmYBI"
   },
   "source": [
    "Using indexing access the element 300 from the series a."
   ]
  },
  {
   "cell_type": "code",
   "execution_count": 19,
   "id": "0f6ddf2c",
   "metadata": {
    "id": "wERTsh-4mYBJ",
    "outputId": "de60a58f-c084-4955-ab6e-b453f6280c98"
   },
   "outputs": [
    {
     "data": {
      "text/plain": [
       "300"
      ]
     },
     "execution_count": 19,
     "metadata": {},
     "output_type": "execute_result"
    }
   ],
   "source": [
    "\n",
    "a[2]"
   ]
  },
  {
   "cell_type": "markdown",
   "id": "a36bb813",
   "metadata": {
    "id": "HHEKyOtemYBJ"
   },
   "source": [
    "What are the values of index for series a?"
   ]
  },
  {
   "cell_type": "code",
   "execution_count": 20,
   "id": "284205c0",
   "metadata": {
    "id": "uQOnSJQ4mYBJ",
    "outputId": "de695171-b817-4495-bf3b-be91ade7c7c4"
   },
   "outputs": [
    {
     "data": {
      "text/plain": [
       "RangeIndex(start=0, stop=4, step=1)"
      ]
     },
     "execution_count": 20,
     "metadata": {},
     "output_type": "execute_result"
    }
   ],
   "source": [
    "a.index"
   ]
  },
  {
   "cell_type": "markdown",
   "id": "8c4f5cb0",
   "metadata": {
    "id": "EuFjG74wmYBJ"
   },
   "source": [
    "Change the index to  ['c', 'a', 'b', 'd']"
   ]
  },
  {
   "cell_type": "code",
   "execution_count": 21,
   "id": "b6dd5f01",
   "metadata": {
    "id": "1ueAAFiJmYBK",
    "outputId": "cc9737be-1c56-4b92-febb-ad609f07e14a"
   },
   "outputs": [
    {
     "data": {
      "text/plain": [
       "c   NaN\n",
       "a   NaN\n",
       "b   NaN\n",
       "d   NaN\n",
       "dtype: float64"
      ]
     },
     "execution_count": 21,
     "metadata": {},
     "output_type": "execute_result"
    }
   ],
   "source": [
    "a.reindex(['c', 'a', 'b', 'd'])\n",
    "\n",
    "\n"
   ]
  },
  {
   "cell_type": "markdown",
   "id": "925bb243",
   "metadata": {
    "id": "ZdZLyRO7mYBK"
   },
   "source": [
    "Access the value in the series with index 'd'"
   ]
  },
  {
   "cell_type": "code",
   "execution_count": 22,
   "id": "84da7b2d",
   "metadata": {
    "id": "oN1ce3GymYBK",
    "outputId": "cba39f6a-cd4d-4934-b5cf-49cafd4ddc31"
   },
   "outputs": [
    {
     "name": "stdout",
     "output_type": "stream",
     "text": [
      "400\n"
     ]
    }
   ],
   "source": [
    "import pandas as pd\n",
    "\n",
    "a = pd.Series([100, 200, 300, 400], index=['c', 'a', 'b', 'd'])\n",
    "\n",
    "# Access the value with index 'd'\n",
    "value_d = a['d']\n",
    "\n",
    "# Print the result\n",
    "print(value_d)"
   ]
  },
  {
   "cell_type": "markdown",
   "id": "1a3050a5",
   "metadata": {
    "id": "eQSGwKtFmYBK"
   },
   "source": [
    "Sort the values wrt to the index and print it"
   ]
  },
  {
   "cell_type": "code",
   "execution_count": 23,
   "id": "fdfabb5f",
   "metadata": {
    "id": "-arvricBmYBL",
    "outputId": "f1286103-c02c-4ee2-e25f-f8b0d8215198"
   },
   "outputs": [
    {
     "data": {
      "text/plain": [
       "a    200\n",
       "b    300\n",
       "c    100\n",
       "d    400\n",
       "dtype: int64"
      ]
     },
     "execution_count": 23,
     "metadata": {},
     "output_type": "execute_result"
    }
   ],
   "source": [
    "a.sort_index()"
   ]
  },
  {
   "cell_type": "markdown",
   "id": "e56f2496",
   "metadata": {
    "id": "g-fXVSK2mYBL"
   },
   "source": [
    "Create a new Pandas Series b having index as 'e', 'f', and 'g' and value 800,450,100 and print it"
   ]
  },
  {
   "cell_type": "code",
   "execution_count": 24,
   "id": "df74c62c",
   "metadata": {
    "id": "fAg_rI3hmYBL",
    "outputId": "0bf9ddea-64c2-402a-f129-cd640ffec5b2"
   },
   "outputs": [
    {
     "name": "stdout",
     "output_type": "stream",
     "text": [
      "e    800\n",
      "f    450\n",
      "g    100\n",
      "dtype: int64\n"
     ]
    }
   ],
   "source": [
    "b = pd.Series([800, 450, 100], index=['e', 'f', 'g'])\n",
    "\n",
    "# Print the Series 'b'\n",
    "print(b)"
   ]
  },
  {
   "cell_type": "markdown",
   "id": "8d50bd75",
   "metadata": {
    "id": "jWhRRtF1mYBL"
   },
   "source": [
    "Append b series at the end of a series"
   ]
  },
  {
   "cell_type": "code",
   "execution_count": 32,
   "id": "271e2f90",
   "metadata": {
    "id": "TBV8hkRXmYBL"
   },
   "outputs": [
    {
     "name": "stdout",
     "output_type": "stream",
     "text": [
      "c    100\n",
      "a    200\n",
      "b    300\n",
      "d    400\n",
      "e    800\n",
      "f    450\n",
      "g    100\n",
      "dtype: int64\n"
     ]
    }
   ],
   "source": [
    "import pandas as pd\n",
    "\n",
    "# Original Series 'a'\n",
    "a = pd.Series([100, 200, 300, 400], index=['c', 'a', 'b', 'd'])\n",
    "\n",
    "# New Series 'b'\n",
    "b = pd.Series([800, 450, 100], index=['e', 'f', 'g'])\n",
    "\n",
    "# Concatenate 'b' to 'a'\n",
    "a_appended = pd.concat([a, b])\n",
    "\n",
    "# Print the result\n",
    "print(a_appended)"
   ]
  },
  {
   "cell_type": "code",
   "execution_count": 33,
   "id": "ec20b043",
   "metadata": {
    "id": "Xfm5WgBYmYBM",
    "outputId": "45dbeb71-cdd2-46ac-8b76-947f9e4eab54"
   },
   "outputs": [
    {
     "name": "stdout",
     "output_type": "stream",
     "text": [
      "c    100\n",
      "a    200\n",
      "b    300\n",
      "d    400\n",
      "e    800\n",
      "f    450\n",
      "g    100\n",
      "dtype: int64\n"
     ]
    }
   ],
   "source": [
    "#print a again after appending b into it\n",
    "print(a_appended)"
   ]
  },
  {
   "cell_type": "markdown",
   "id": "fd1a1486",
   "metadata": {
    "id": "6lz_BR0umYBM"
   },
   "source": [
    "Sort the values in descending order of a and print the index of the sorted series"
   ]
  },
  {
   "cell_type": "code",
   "execution_count": 34,
   "id": "ce501f62",
   "metadata": {
    "id": "5srJV0y0mYBM"
   },
   "outputs": [
    {
     "data": {
      "text/plain": [
       "d    400\n",
       "b    300\n",
       "a    200\n",
       "c    100\n",
       "dtype: int64"
      ]
     },
     "execution_count": 34,
     "metadata": {},
     "output_type": "execute_result"
    }
   ],
   "source": [
    "a.sort_values(ascending=False)\n"
   ]
  },
  {
   "cell_type": "code",
   "execution_count": null,
   "id": "dc80314b",
   "metadata": {
    "id": "9OxmwQRAmYBM",
    "outputId": "d5a2ecdc-aca2-42da-ed66-18102af915bc"
   },
   "outputs": [],
   "source": [
    "\n",
    "\n"
   ]
  },
  {
   "cell_type": "markdown",
   "id": "84f22470",
   "metadata": {
    "id": "OQ5gj4romYBM"
   },
   "source": [
    "## Pandas DataFrame"
   ]
  },
  {
   "cell_type": "markdown",
   "id": "a6447e80",
   "metadata": {
    "id": "tD7de_2amYBM"
   },
   "source": [
    "### Part 1"
   ]
  },
  {
   "cell_type": "markdown",
   "id": "8021da30",
   "metadata": {
    "id": "z_nAQa4BmYBN"
   },
   "source": [
    "Create a pandas dataframe df from the series 'a' that we used in the last section, print the dataframe"
   ]
  },
  {
   "cell_type": "code",
   "execution_count": 35,
   "id": "81111d55",
   "metadata": {
    "id": "ojD-B6FvmYBN",
    "outputId": "628c307e-fe67-471b-9ff6-e1167f0e9529"
   },
   "outputs": [],
   "source": [
    "df = pd.DataFrame(a, columns=['values'])"
   ]
  },
  {
   "cell_type": "code",
   "execution_count": 36,
   "id": "35f1d388",
   "metadata": {
    "id": "2r2SyCYNmYBN"
   },
   "outputs": [
    {
     "name": "stdout",
     "output_type": "stream",
     "text": [
      "   values\n",
      "c     100\n",
      "a     200\n",
      "b     300\n",
      "d     400\n"
     ]
    }
   ],
   "source": [
    "print(df)"
   ]
  },
  {
   "cell_type": "markdown",
   "id": "20043830",
   "metadata": {
    "id": "yzrIH3irmYBN"
   },
   "source": [
    "What is the shape of the datafarme <br>\n",
    "(also, what does it imply?)"
   ]
  },
  {
   "cell_type": "code",
   "execution_count": 37,
   "id": "f915b4d6",
   "metadata": {
    "id": "aFo5tNrVmYBN",
    "outputId": "f3145f5e-75b2-4bf0-87f3-07c405845ad4"
   },
   "outputs": [
    {
     "name": "stdout",
     "output_type": "stream",
     "text": [
      "(4, 1)\n"
     ]
    }
   ],
   "source": [
    "\n",
    "\n",
    "\n",
    "print(df.shape)"
   ]
  },
  {
   "cell_type": "markdown",
   "id": "4f10c578",
   "metadata": {
    "id": "Dl0Hr0LSmYBO"
   },
   "source": [
    "Hey! remember shape (7,1) implies dataframe has 7 rows and 1 column. "
   ]
  },
  {
   "cell_type": "markdown",
   "id": "0eb1c5e7",
   "metadata": {
    "id": "hwcaXl43mYBO"
   },
   "source": [
    "What is the index of the dataframe, is it same as the series 'a' "
   ]
  },
  {
   "cell_type": "code",
   "execution_count": 38,
   "id": "12818755",
   "metadata": {
    "id": "1-gMxT-emYBO",
    "outputId": "25df79a2-b1c6-45af-b179-53b79fe23fcd"
   },
   "outputs": [
    {
     "name": "stdout",
     "output_type": "stream",
     "text": [
      "Index(['c', 'a', 'b', 'd'], dtype='object')\n"
     ]
    }
   ],
   "source": [
    "print(df.index)"
   ]
  },
  {
   "cell_type": "markdown",
   "id": "3a486633",
   "metadata": {
    "id": "C5wadnBymYBO"
   },
   "source": [
    "print the head and tail of the dataframe. <br>\n",
    "Additional - (what does head and tali represent?)"
   ]
  },
  {
   "cell_type": "code",
   "execution_count": 39,
   "id": "f9e8d4c1",
   "metadata": {
    "id": "U2vxYrPnmYBO",
    "outputId": "7f439669-2345-46f9-f46e-d134fb09bbd7"
   },
   "outputs": [
    {
     "name": "stdout",
     "output_type": "stream",
     "text": [
      "Head of the DataFrame:\n",
      "   values\n",
      "c     100\n",
      "a     200\n",
      "b     300\n",
      "d     400\n",
      "\n",
      "Tail of the DataFrame:\n",
      "   values\n",
      "c     100\n",
      "a     200\n",
      "b     300\n",
      "d     400\n"
     ]
    }
   ],
   "source": [
    "\n",
    "print(\"Head of the DataFrame:\")\n",
    "print(df.head())\n",
    "\n",
    "print(\"\\nTail of the DataFrame:\")\n",
    "print(df.tail())\n"
   ]
  },
  {
   "cell_type": "code",
   "execution_count": null,
   "id": "4741c20f",
   "metadata": {
    "id": "nikOdGC_mYBO",
    "outputId": "2ab575b8-468b-4fbe-a6fa-80a607a83857"
   },
   "outputs": [],
   "source": [
    "\n",
    "\n"
   ]
  },
  {
   "cell_type": "markdown",
   "id": "36bd178c",
   "metadata": {
    "id": "Ci2tiwbBmYBO"
   },
   "source": [
    "Rename the column of the dataframe as 'points'"
   ]
  },
  {
   "cell_type": "code",
   "execution_count": 40,
   "id": "7834fbc2",
   "metadata": {
    "id": "K3OsbVD3mYBP",
    "outputId": "f49057a3-e48a-4124-c1f9-3ccdf264dbf3"
   },
   "outputs": [
    {
     "name": "stdout",
     "output_type": "stream",
     "text": [
      "   points\n",
      "c     100\n",
      "a     200\n",
      "b     300\n",
      "d     400\n"
     ]
    }
   ],
   "source": [
    "df = df.rename(columns={'values': 'points'})\n",
    "print(df)\n",
    "\n",
    "\n"
   ]
  },
  {
   "cell_type": "markdown",
   "id": "96627533",
   "metadata": {
    "id": "bBV0VfzzmYBP"
   },
   "source": [
    "Create another Series 'fruits', which contains random names of fruits from ['orange','mango','apple']. The series should contain 7 elements, randomly selected from ['orange','mango','apple']"
   ]
  },
  {
   "cell_type": "code",
   "execution_count": 41,
   "id": "1a28da38",
   "metadata": {
    "id": "baUmpsuhmYBP",
    "outputId": "8cbe922c-d257-4587-a7ff-93de58af7c0e"
   },
   "outputs": [],
   "source": [
    "fruit_names = ['orange', 'mango', 'apple']\n",
    "\n",
    "fruits = pd.Series(np.random.choice(fruit_names, size=7))"
   ]
  },
  {
   "cell_type": "code",
   "execution_count": 42,
   "id": "a1d1d6a2",
   "metadata": {
    "id": "QrbnjM8FmYBP",
    "outputId": "f7d318ae-c463-4a03-fb32-466034a5073b"
   },
   "outputs": [
    {
     "name": "stdout",
     "output_type": "stream",
     "text": [
      "0     apple\n",
      "1     mango\n",
      "2     apple\n",
      "3     apple\n",
      "4    orange\n",
      "5     mango\n",
      "6     mango\n",
      "dtype: object\n"
     ]
    }
   ],
   "source": [
    "print(fruits)\n",
    "\n"
   ]
  },
  {
   "cell_type": "markdown",
   "id": "feecc15b",
   "metadata": {
    "id": "20slMbq5mYBP"
   },
   "source": [
    "Change the index of fruits to the index of dataframe df"
   ]
  },
  {
   "cell_type": "code",
   "execution_count": 43,
   "id": "0fc0214f",
   "metadata": {
    "id": "1n4THBgkmYBQ",
    "outputId": "6ca845e1-a58b-4a40-d18d-8a59a62a7f8f"
   },
   "outputs": [
    {
     "data": {
      "text/plain": [
       "c    NaN\n",
       "a    NaN\n",
       "b    NaN\n",
       "d    NaN\n",
       "dtype: object"
      ]
     },
     "execution_count": 43,
     "metadata": {},
     "output_type": "execute_result"
    }
   ],
   "source": [
    "fruits.reindex(df.index)"
   ]
  },
  {
   "cell_type": "markdown",
   "id": "f5d281f4",
   "metadata": {
    "id": "oPv8dJ_2mYBQ"
   },
   "source": [
    "Add this fruits series as a new column to the dataframe df with its column name as 'fruits'\n",
    "<br>print the head of the dataframe to verify"
   ]
  },
  {
   "cell_type": "code",
   "execution_count": 44,
   "id": "3b70c6f3",
   "metadata": {
    "id": "tit_GDscmYBQ",
    "outputId": "a2d0549f-2846-4331-c159-2f76af6fe9e2"
   },
   "outputs": [
    {
     "name": "stdout",
     "output_type": "stream",
     "text": [
      "   values fruits\n",
      "c     100    NaN\n",
      "a     200    NaN\n",
      "b     300    NaN\n",
      "d     400    NaN\n"
     ]
    }
   ],
   "source": [
    "a = pd.Series([100, 200, 300, 400], index=['c', 'a', 'b', 'd'])\n",
    "\n",
    "df = pd.DataFrame(a, columns=['values'])\n",
    "\n",
    "fruit_names = ['orange', 'mango', 'apple']\n",
    "\n",
    "fruits = pd.Series(np.random.choice(fruit_names, size=7), name='fruits')\n",
    "fruits = fruits.reindex(df.index)\n",
    "\n",
    "df['fruits'] = fruits\n",
    "print(df.head())"
   ]
  },
  {
   "cell_type": "code",
   "execution_count": null,
   "id": "dc1133e1",
   "metadata": {
    "id": "X3A6oKUXmYBQ",
    "outputId": "230256fe-9ef4-413a-913f-bd389ac35402"
   },
   "outputs": [],
   "source": []
  },
  {
   "cell_type": "markdown",
   "id": "83ef2dc3",
   "metadata": {
    "id": "ACsvenslmYBQ"
   },
   "source": [
    "## Pandas Concatenation"
   ]
  },
  {
   "cell_type": "markdown",
   "id": "2d810c85",
   "metadata": {
    "id": "cwgg82N0mYBQ"
   },
   "source": [
    "Create a dataframe  d1 where the cols are  ‘city’ : [‘Chandigarh’, ‘Delhi’, ‘Kanpur’, ‘Chennai’, ‘Manali’ ] and ‘Temperature’ : [15, 22, 20, 26,-2] "
   ]
  },
  {
   "cell_type": "code",
   "execution_count": 45,
   "id": "8ba90da3",
   "metadata": {
    "id": "09tWwU18mYBR"
   },
   "outputs": [],
   "source": [
    "data = {\n",
    "    'city': ['Chandigarh', 'Delhi', 'Kanpur', 'Chennai', 'Manali'],\n",
    "    'Temperature': [15, 22, 20, 26, -2]\n",
    "}\n",
    "\n",
    "d1 = pd.DataFrame(data)"
   ]
  },
  {
   "cell_type": "markdown",
   "id": "d1229d4d",
   "metadata": {
    "id": "XAquuUx_mYBR"
   },
   "source": [
    "Print(d1)"
   ]
  },
  {
   "cell_type": "code",
   "execution_count": 46,
   "id": "8142dce1",
   "metadata": {
    "id": "tEaf6dUVmYBR",
    "outputId": "02dd1795-381a-4d83-c8cc-37e15c066de8"
   },
   "outputs": [
    {
     "name": "stdout",
     "output_type": "stream",
     "text": [
      "         city  Temperature\n",
      "0  Chandigarh           15\n",
      "1       Delhi           22\n",
      "2      Kanpur           20\n",
      "3     Chennai           26\n",
      "4      Manali           -2\n"
     ]
    }
   ],
   "source": [
    "print(d1)"
   ]
  },
  {
   "cell_type": "markdown",
   "id": "07368c58",
   "metadata": {
    "id": "YmZ9u-4FmYBR"
   },
   "source": [
    "What is the shape of d1."
   ]
  },
  {
   "cell_type": "code",
   "execution_count": 47,
   "id": "41500321",
   "metadata": {
    "id": "upPyfWR7mYBR",
    "outputId": "578b226c-493a-4e62-eb42-f29196452acf"
   },
   "outputs": [
    {
     "name": "stdout",
     "output_type": "stream",
     "text": [
      "(5, 2)\n"
     ]
    }
   ],
   "source": [
    "print(d1.shape)"
   ]
  },
  {
   "cell_type": "markdown",
   "id": "5907274d",
   "metadata": {
    "id": "JtBQ5SLtmYBS"
   },
   "source": [
    "Set city = d1['city']"
   ]
  },
  {
   "cell_type": "code",
   "execution_count": 48,
   "id": "f70f19c5",
   "metadata": {
    "id": "mzE78QzrmYBS"
   },
   "outputs": [],
   "source": [
    "city = d1['city']"
   ]
  },
  {
   "cell_type": "markdown",
   "id": "671cd81b",
   "metadata": {
    "id": "WubWnFIcmYBS"
   },
   "source": [
    "print city <br>\n",
    "What is the type of city."
   ]
  },
  {
   "cell_type": "code",
   "execution_count": 49,
   "id": "67d04a8f",
   "metadata": {
    "id": "6d4EjYTemYBS",
    "outputId": "013b3d5f-4f17-45ca-bdbc-7c4f5166df33"
   },
   "outputs": [
    {
     "name": "stdout",
     "output_type": "stream",
     "text": [
      "0    Chandigarh\n",
      "1         Delhi\n",
      "2        Kanpur\n",
      "3       Chennai\n",
      "4        Manali\n",
      "Name: city, dtype: object\n"
     ]
    }
   ],
   "source": [
    "print(city)\n",
    "\n",
    "\n"
   ]
  },
  {
   "cell_type": "markdown",
   "id": "d43acc3e",
   "metadata": {
    "id": "uUdrLgg6mYBS"
   },
   "source": [
    "Create another datafeame 'd2' where the columns are <br>\n",
    "'city' - ['Bengalaru','Coimbatore','Srirangam','Pondicherry'] <br>\n",
    "'Temperature' - [24,35,36,39]"
   ]
  },
  {
   "cell_type": "code",
   "execution_count": 51,
   "id": "5a9e2de5",
   "metadata": {
    "id": "CFBCGcvhmYBS",
    "outputId": "fc5089d3-dfb0-438a-b654-920f5d5dac5d"
   },
   "outputs": [
    {
     "name": "stdout",
     "output_type": "stream",
     "text": [
      "          city  Temperature\n",
      "0    Bengalaru           24\n",
      "1   Coimbatore           35\n",
      "2    Srirangam           36\n",
      "3  Pondicherry           39\n"
     ]
    }
   ],
   "source": [
    "data2 = {\n",
    "    'city': ['Bengalaru', 'Coimbatore', 'Srirangam', 'Pondicherry'],\n",
    "    'Temperature': [24, 35, 36, 39]\n",
    "}\n",
    "\n",
    "d2 = pd.DataFrame(data2)\n",
    "print(d2)"
   ]
  },
  {
   "cell_type": "markdown",
   "id": "6023aa05",
   "metadata": {
    "id": "HivVdLN5mYBT"
   },
   "source": [
    "print the shape of this dataframe"
   ]
  },
  {
   "cell_type": "code",
   "execution_count": 52,
   "id": "1790b065",
   "metadata": {
    "id": "9FFgtQJhmYBT",
    "outputId": "e2f88a69-e913-4b37-c118-8e6b3f9153c7"
   },
   "outputs": [
    {
     "name": "stdout",
     "output_type": "stream",
     "text": [
      "(4, 2)\n"
     ]
    }
   ],
   "source": [
    "print(d2.shape)"
   ]
  },
  {
   "cell_type": "markdown",
   "id": "cc47e977",
   "metadata": {
    "id": "UK38h5ktmYBT"
   },
   "source": [
    "merge the two dataframes together, save it in a new dataframe named 'd3'"
   ]
  },
  {
   "cell_type": "code",
   "execution_count": 54,
   "id": "c8e4a52e",
   "metadata": {
    "id": "GMbOPfjCmYBT",
    "outputId": "66c2b828-c00a-4393-c49c-68057f447fb2"
   },
   "outputs": [
    {
     "data": {
      "text/html": [
       "<div>\n",
       "<style scoped>\n",
       "    .dataframe tbody tr th:only-of-type {\n",
       "        vertical-align: middle;\n",
       "    }\n",
       "\n",
       "    .dataframe tbody tr th {\n",
       "        vertical-align: top;\n",
       "    }\n",
       "\n",
       "    .dataframe thead th {\n",
       "        text-align: right;\n",
       "    }\n",
       "</style>\n",
       "<table border=\"1\" class=\"dataframe\">\n",
       "  <thead>\n",
       "    <tr style=\"text-align: right;\">\n",
       "      <th></th>\n",
       "      <th>city</th>\n",
       "      <th>Temperature</th>\n",
       "    </tr>\n",
       "  </thead>\n",
       "  <tbody>\n",
       "    <tr>\n",
       "      <th>0</th>\n",
       "      <td>Chandigarh</td>\n",
       "      <td>15</td>\n",
       "    </tr>\n",
       "    <tr>\n",
       "      <th>1</th>\n",
       "      <td>Delhi</td>\n",
       "      <td>22</td>\n",
       "    </tr>\n",
       "    <tr>\n",
       "      <th>2</th>\n",
       "      <td>Kanpur</td>\n",
       "      <td>20</td>\n",
       "    </tr>\n",
       "    <tr>\n",
       "      <th>3</th>\n",
       "      <td>Chennai</td>\n",
       "      <td>26</td>\n",
       "    </tr>\n",
       "    <tr>\n",
       "      <th>4</th>\n",
       "      <td>Manali</td>\n",
       "      <td>-2</td>\n",
       "    </tr>\n",
       "    <tr>\n",
       "      <th>5</th>\n",
       "      <td>Bengalaru</td>\n",
       "      <td>24</td>\n",
       "    </tr>\n",
       "    <tr>\n",
       "      <th>6</th>\n",
       "      <td>Coimbatore</td>\n",
       "      <td>35</td>\n",
       "    </tr>\n",
       "    <tr>\n",
       "      <th>7</th>\n",
       "      <td>Srirangam</td>\n",
       "      <td>36</td>\n",
       "    </tr>\n",
       "    <tr>\n",
       "      <th>8</th>\n",
       "      <td>Pondicherry</td>\n",
       "      <td>39</td>\n",
       "    </tr>\n",
       "  </tbody>\n",
       "</table>\n",
       "</div>"
      ],
      "text/plain": [
       "          city  Temperature\n",
       "0   Chandigarh           15\n",
       "1        Delhi           22\n",
       "2       Kanpur           20\n",
       "3      Chennai           26\n",
       "4       Manali           -2\n",
       "5    Bengalaru           24\n",
       "6   Coimbatore           35\n",
       "7    Srirangam           36\n",
       "8  Pondicherry           39"
      ]
     },
     "execution_count": 54,
     "metadata": {},
     "output_type": "execute_result"
    }
   ],
   "source": [
    "d3 = pd.concat([d1, d2], ignore_index=True)\n",
    "d3"
   ]
  },
  {
   "cell_type": "markdown",
   "id": "78a4d159",
   "metadata": {
    "id": "1dGlNGzjmYBT"
   },
   "source": [
    "Select the part of the dataframe such that it contains cities wherer temp is less then or equal to 20 <br>\n",
    "How many cities are there? "
   ]
  },
  {
   "cell_type": "code",
   "execution_count": 55,
   "id": "c4ad779d",
   "metadata": {
    "id": "1vtC2UkgmYBT",
    "outputId": "629b26f6-140b-4f57-c794-2202d80300b2"
   },
   "outputs": [
    {
     "name": "stdout",
     "output_type": "stream",
     "text": [
      "         city  Temperature\n",
      "0  Chandigarh           15\n",
      "2      Kanpur           20\n",
      "4      Manali           -2\n"
     ]
    }
   ],
   "source": [
    "selected_cities = d3[d3['Temperature'] <= 20]\n",
    "print(selected_cities)"
   ]
  },
  {
   "cell_type": "markdown",
   "id": "bf8a9d7a",
   "metadata": {
    "id": "82QIQRQUmYBT"
   },
   "source": [
    "Select the part of the dataframe such that it contains the cities where tempearature greater than or equal to 35"
   ]
  },
  {
   "cell_type": "code",
   "execution_count": 56,
   "id": "dea82fdd",
   "metadata": {
    "id": "Ea_hMtyGmYBU",
    "outputId": "540b5d81-ad25-4408-927f-0919887a8100"
   },
   "outputs": [
    {
     "name": "stdout",
     "output_type": "stream",
     "text": [
      "          city  Temperature\n",
      "6   Coimbatore           35\n",
      "7    Srirangam           36\n",
      "8  Pondicherry           39\n"
     ]
    }
   ],
   "source": [
    "selected_cities_high_temp = d3[d3['Temperature'] >= 35]\n",
    "print(selected_cities_high_temp)"
   ]
  },
  {
   "cell_type": "markdown",
   "id": "89d42e2f",
   "metadata": {
    "id": "BrYscXpWmYBU"
   },
   "source": [
    "## Applying functions to columns and creating new columns"
   ]
  },
  {
   "cell_type": "markdown",
   "id": "aef9f1a0",
   "metadata": {
    "id": "7Z4ioDxtmYBU"
   },
   "source": [
    "We need to create another column in d3, which contains  a boolean value for each city to indicate whether it's a union territory or not. \n",
    "- HINT: Chandigarh, Pondicherry and Delhi are only 3 union territories here. \n"
   ]
  },
  {
   "cell_type": "code",
   "execution_count": 58,
   "id": "48df8038",
   "metadata": {
    "id": "FR2wgv6tmYBU"
   },
   "outputs": [],
   "source": [
    "union_territories = ['Chandigarh', 'Pondicherry', 'Delhi']\n",
    "\n",
    "def is_union_territory(city):\n",
    "    return city in union_territories\n",
    "\n",
    "d3['is_union_territory'] = d3['city'].apply(is_union_territory)"
   ]
  },
  {
   "cell_type": "code",
   "execution_count": 59,
   "id": "41ff263a",
   "metadata": {
    "id": "0hd7QjComYBU",
    "outputId": "8a788eef-b933-48b0-d1f0-fdaa5b25d102"
   },
   "outputs": [
    {
     "name": "stdout",
     "output_type": "stream",
     "text": [
      "          city  Temperature  is_union_territory\n",
      "0   Chandigarh           15                True\n",
      "1        Delhi           22                True\n",
      "2       Kanpur           20               False\n",
      "3      Chennai           26               False\n",
      "4       Manali           -2               False\n",
      "5    Bengalaru           24               False\n",
      "6   Coimbatore           35               False\n",
      "7    Srirangam           36               False\n",
      "8  Pondicherry           39                True\n"
     ]
    }
   ],
   "source": [
    "# print d3\n",
    "\n",
    "print(d3)"
   ]
  },
  {
   "cell_type": "markdown",
   "id": "0ca6f6cf",
   "metadata": {
    "id": "z88YETlMmYBU"
   },
   "source": [
    "The temperatures mentioned in ‘Temperature’ column are mentioned in Celsius, we need another column which contains the same in Fahrenheit. "
   ]
  },
  {
   "cell_type": "markdown",
   "id": "82eeea11",
   "metadata": {
    "id": "ywp07m-xmYBU"
   },
   "source": [
    "HINT - \n",
    "- Define a function c_to_f which takes input temp in celsius and returns a value with temperature in Fahrenheit.\n",
    "- To check: c_to_f(10) should return 50. \n"
   ]
  },
  {
   "cell_type": "code",
   "execution_count": 61,
   "id": "429853f3",
   "metadata": {
    "id": "V0x_0IAAmYBV"
   },
   "outputs": [
    {
     "name": "stdout",
     "output_type": "stream",
     "text": [
      "          city  Temperature  is_union_territory  Temperature_Fahrenheit\n",
      "0   Chandigarh           15                True                    59.0\n",
      "1        Delhi           22                True                    71.6\n",
      "2       Kanpur           20               False                    68.0\n",
      "3      Chennai           26               False                    78.8\n",
      "4       Manali           -2               False                    28.4\n",
      "5    Bengalaru           24               False                    75.2\n",
      "6   Coimbatore           35               False                    95.0\n",
      "7    Srirangam           36               False                    96.8\n",
      "8  Pondicherry           39                True                   102.2\n"
     ]
    }
   ],
   "source": [
    "def c_to_f(celsius_temp):\n",
    "    return (celsius_temp * 9/5) + 32\n",
    "\n",
    "d3['Temperature_Fahrenheit'] = d3['Temperature'].apply(c_to_f)\n",
    "\n",
    "print(d3)"
   ]
  },
  {
   "cell_type": "code",
   "execution_count": 62,
   "id": "4d666467",
   "metadata": {
    "id": "Wc9meranmYBV",
    "outputId": "d83f0f45-482d-48a6-9226-2ea5ccac4e55"
   },
   "outputs": [
    {
     "name": "stdout",
     "output_type": "stream",
     "text": [
      "50.0\n"
     ]
    }
   ],
   "source": [
    "def c_to_f(celsius_temp):\n",
    "    return (celsius_temp * 9/5) + 32\n",
    "\n",
    "result = c_to_f(10)\n",
    "\n",
    "print(result)"
   ]
  },
  {
   "cell_type": "code",
   "execution_count": 64,
   "id": "1f1f113d",
   "metadata": {
    "id": "H79GUcoImYBV",
    "outputId": "834607ff-0221-45b5-d5b0-64b13a3acdfa"
   },
   "outputs": [
    {
     "name": "stdout",
     "output_type": "stream",
     "text": [
      "          city  Temperature  is_union_territory  Temperature_Fahrenheit\n",
      "0   Chandigarh           15                True                    59.0\n",
      "1        Delhi           22                True                    71.6\n",
      "2       Kanpur           20               False                    68.0\n",
      "3      Chennai           26               False                    78.8\n",
      "4       Manali           -2               False                    28.4\n",
      "5    Bengalaru           24               False                    75.2\n",
      "6   Coimbatore           35               False                    95.0\n",
      "7    Srirangam           36               False                    96.8\n",
      "8  Pondicherry           39                True                   102.2\n"
     ]
    }
   ],
   "source": [
    "# apply function c_to_f to d3 to create a column 'temp_farenhiet'\n",
    "d3['Temperature_Fahrenheit'] = d3['Temperature'].apply(c_to_f)\n",
    "print(d3)"
   ]
  },
  {
   "cell_type": "markdown",
   "id": "4608521b",
   "metadata": {
    "id": "Wj0p6JKHmYBV"
   },
   "source": [
    "## Indexing and selecting rows in DataFrame"
   ]
  },
  {
   "cell_type": "markdown",
   "id": "eb1a9bae",
   "metadata": {
    "id": "fFitRJy2mYBV"
   },
   "source": [
    "Select subset of the dataframe d1 such that it contains the cities which are union territories."
   ]
  },
  {
   "cell_type": "code",
   "execution_count": 65,
   "id": "6dd0bd50",
   "metadata": {
    "id": "Kg8OSVz0mYBV",
    "outputId": "686083a4-3b1f-4c7d-8fb8-d26aac318e52"
   },
   "outputs": [
    {
     "name": "stdout",
     "output_type": "stream",
     "text": [
      "          city  Temperature  is_union_territory  Temperature_Fahrenheit\n",
      "0   Chandigarh           15                True                    59.0\n",
      "1        Delhi           22                True                    71.6\n",
      "8  Pondicherry           39                True                   102.2\n"
     ]
    }
   ],
   "source": [
    "union_territory_cities = d3[d3['is_union_territory']]\n",
    "print(union_territory_cities)"
   ]
  },
  {
   "cell_type": "markdown",
   "id": "afd1994f",
   "metadata": {
    "id": "XnxQl4ZPmYBV"
   },
   "source": [
    "Select a subset of the dataframe d1 such that it contains the cities which only have temperature above 90 Farenhiet."
   ]
  },
  {
   "cell_type": "code",
   "execution_count": 67,
   "id": "c8fd8a22",
   "metadata": {
    "id": "9o62VSn7mYBV",
    "outputId": "0cf73a78-2dfc-4be7-9bea-43fd0318b657"
   },
   "outputs": [
    {
     "name": "stdout",
     "output_type": "stream",
     "text": [
      "          city  Temperature  is_union_territory  Temperature_Fahrenheit\n",
      "6   Coimbatore           35               False                    95.0\n",
      "7    Srirangam           36               False                    96.8\n",
      "8  Pondicherry           39                True                   102.2\n"
     ]
    }
   ],
   "source": [
    "high_temp_cities = d3[d3['Temperature_Fahrenheit'] > 90]\n",
    "print(high_temp_cities)"
   ]
  },
  {
   "cell_type": "markdown",
   "id": "8f6fb4ee",
   "metadata": {
    "id": "IQq7K2EtmYBW"
   },
   "source": [
    "Select only the first three rows of the dataframe d1. \n"
   ]
  },
  {
   "cell_type": "code",
   "execution_count": 68,
   "id": "5d2afa17",
   "metadata": {
    "id": "PlmVOyAAmYBW",
    "outputId": "2c1d6ad5-1e08-4f31-d0c0-c1fbf8289d32"
   },
   "outputs": [
    {
     "data": {
      "text/html": [
       "<div>\n",
       "<style scoped>\n",
       "    .dataframe tbody tr th:only-of-type {\n",
       "        vertical-align: middle;\n",
       "    }\n",
       "\n",
       "    .dataframe tbody tr th {\n",
       "        vertical-align: top;\n",
       "    }\n",
       "\n",
       "    .dataframe thead th {\n",
       "        text-align: right;\n",
       "    }\n",
       "</style>\n",
       "<table border=\"1\" class=\"dataframe\">\n",
       "  <thead>\n",
       "    <tr style=\"text-align: right;\">\n",
       "      <th></th>\n",
       "      <th>city</th>\n",
       "      <th>Temperature</th>\n",
       "      <th>is_union_territory</th>\n",
       "      <th>Temperature_Fahrenheit</th>\n",
       "    </tr>\n",
       "  </thead>\n",
       "  <tbody>\n",
       "    <tr>\n",
       "      <th>0</th>\n",
       "      <td>Chandigarh</td>\n",
       "      <td>15</td>\n",
       "      <td>True</td>\n",
       "      <td>59.0</td>\n",
       "    </tr>\n",
       "    <tr>\n",
       "      <th>1</th>\n",
       "      <td>Delhi</td>\n",
       "      <td>22</td>\n",
       "      <td>True</td>\n",
       "      <td>71.6</td>\n",
       "    </tr>\n",
       "    <tr>\n",
       "      <th>2</th>\n",
       "      <td>Kanpur</td>\n",
       "      <td>20</td>\n",
       "      <td>False</td>\n",
       "      <td>68.0</td>\n",
       "    </tr>\n",
       "  </tbody>\n",
       "</table>\n",
       "</div>"
      ],
      "text/plain": [
       "         city  Temperature  is_union_territory  Temperature_Fahrenheit\n",
       "0  Chandigarh           15                True                    59.0\n",
       "1       Delhi           22                True                    71.6\n",
       "2      Kanpur           20               False                    68.0"
      ]
     },
     "execution_count": 68,
     "metadata": {},
     "output_type": "execute_result"
    }
   ],
   "source": [
    " d3.head(3)"
   ]
  },
  {
   "cell_type": "markdown",
   "id": "20805116",
   "metadata": {
    "id": "MKNIbwW2mYBW"
   },
   "source": [
    "Select all the rows and last two columns in the dataframe.\n",
    "\n",
    "\n"
   ]
  },
  {
   "cell_type": "code",
   "execution_count": 69,
   "id": "13b79886",
   "metadata": {
    "id": "WfQasVJImYBW",
    "outputId": "c157a66e-61b9-4a9a-e7f1-6ee392ccfe3a"
   },
   "outputs": [
    {
     "data": {
      "text/html": [
       "<div>\n",
       "<style scoped>\n",
       "    .dataframe tbody tr th:only-of-type {\n",
       "        vertical-align: middle;\n",
       "    }\n",
       "\n",
       "    .dataframe tbody tr th {\n",
       "        vertical-align: top;\n",
       "    }\n",
       "\n",
       "    .dataframe thead th {\n",
       "        text-align: right;\n",
       "    }\n",
       "</style>\n",
       "<table border=\"1\" class=\"dataframe\">\n",
       "  <thead>\n",
       "    <tr style=\"text-align: right;\">\n",
       "      <th></th>\n",
       "      <th>is_union_territory</th>\n",
       "      <th>Temperature_Fahrenheit</th>\n",
       "    </tr>\n",
       "  </thead>\n",
       "  <tbody>\n",
       "    <tr>\n",
       "      <th>0</th>\n",
       "      <td>True</td>\n",
       "      <td>59.0</td>\n",
       "    </tr>\n",
       "    <tr>\n",
       "      <th>1</th>\n",
       "      <td>True</td>\n",
       "      <td>71.6</td>\n",
       "    </tr>\n",
       "    <tr>\n",
       "      <th>2</th>\n",
       "      <td>False</td>\n",
       "      <td>68.0</td>\n",
       "    </tr>\n",
       "    <tr>\n",
       "      <th>3</th>\n",
       "      <td>False</td>\n",
       "      <td>78.8</td>\n",
       "    </tr>\n",
       "    <tr>\n",
       "      <th>4</th>\n",
       "      <td>False</td>\n",
       "      <td>28.4</td>\n",
       "    </tr>\n",
       "    <tr>\n",
       "      <th>5</th>\n",
       "      <td>False</td>\n",
       "      <td>75.2</td>\n",
       "    </tr>\n",
       "    <tr>\n",
       "      <th>6</th>\n",
       "      <td>False</td>\n",
       "      <td>95.0</td>\n",
       "    </tr>\n",
       "    <tr>\n",
       "      <th>7</th>\n",
       "      <td>False</td>\n",
       "      <td>96.8</td>\n",
       "    </tr>\n",
       "    <tr>\n",
       "      <th>8</th>\n",
       "      <td>True</td>\n",
       "      <td>102.2</td>\n",
       "    </tr>\n",
       "  </tbody>\n",
       "</table>\n",
       "</div>"
      ],
      "text/plain": [
       "   is_union_territory  Temperature_Fahrenheit\n",
       "0                True                    59.0\n",
       "1                True                    71.6\n",
       "2               False                    68.0\n",
       "3               False                    78.8\n",
       "4               False                    28.4\n",
       "5               False                    75.2\n",
       "6               False                    95.0\n",
       "7               False                    96.8\n",
       "8                True                   102.2"
      ]
     },
     "execution_count": 69,
     "metadata": {},
     "output_type": "execute_result"
    }
   ],
   "source": [
    "d3.iloc[:, -2:]"
   ]
  },
  {
   "cell_type": "markdown",
   "id": "1856dcff",
   "metadata": {
    "id": "LQ9xspkHmYBW"
   },
   "source": [
    "## Groupby"
   ]
  },
  {
   "cell_type": "code",
   "execution_count": 70,
   "id": "5ae52552",
   "metadata": {},
   "outputs": [
    {
     "name": "stdout",
     "output_type": "stream",
     "text": [
      "    Name  Age           City\n",
      "0   John   28       New York\n",
      "1  Alice   24  San Francisco\n",
      "2    Bob   22    Los Angeles\n"
     ]
    }
   ],
   "source": [
    "# Create a dataframe using dictionary of your choice\n",
    "\n",
    "# data = \n",
    "data = {\n",
    "    'Name': ['John', 'Alice', 'Bob'],\n",
    "    'Age': [28, 24, 22],\n",
    "    'City': ['New York', 'San Francisco', 'Los Angeles']\n",
    "}\n",
    "\n",
    "df = pd.DataFrame(data)\n",
    "\n",
    "print(df)\n"
   ]
  },
  {
   "cell_type": "code",
   "execution_count": 75,
   "id": "eabc9dd9",
   "metadata": {},
   "outputs": [
    {
     "ename": "IndentationError",
     "evalue": "unexpected indent (3518925535.py, line 3)",
     "output_type": "error",
     "traceback": [
      "\u001b[1;36m  Cell \u001b[1;32mIn[75], line 3\u001b[1;36m\u001b[0m\n\u001b[1;33m    import pandas as pd\u001b[0m\n\u001b[1;37m    ^\u001b[0m\n\u001b[1;31mIndentationError\u001b[0m\u001b[1;31m:\u001b[0m unexpected indent\n"
     ]
    }
   ],
   "source": [
    "# Use Groupby of single column with aggregate sum()\n"
   ]
  },
  {
   "cell_type": "code",
   "execution_count": 22,
   "id": "d78c216e",
   "metadata": {},
   "outputs": [],
   "source": [
    "# Use Groupby of single column with aggregate count()\n",
    "\n"
   ]
  },
  {
   "cell_type": "code",
   "execution_count": 23,
   "id": "3f76db35",
   "metadata": {},
   "outputs": [],
   "source": [
    "# Use Groupby of single column with aggregate min() and max()\n",
    "\n",
    "\n"
   ]
  },
  {
   "cell_type": "code",
   "execution_count": 25,
   "id": "fda708e1",
   "metadata": {},
   "outputs": [],
   "source": [
    "# Use Groupby of any 2 columns with aggregate mean()\n",
    "\n",
    "\n"
   ]
  },
  {
   "cell_type": "code",
   "execution_count": 26,
   "id": "46b641b9",
   "metadata": {},
   "outputs": [],
   "source": [
    "# Use Groupby of any 2 columns with aggregate min() and max()\n",
    "\n",
    "\n"
   ]
  },
  {
   "cell_type": "code",
   "execution_count": null,
   "id": "47c86e76",
   "metadata": {},
   "outputs": [],
   "source": []
  },
  {
   "cell_type": "markdown",
   "id": "d2ce2647",
   "metadata": {
    "id": "goEgED0xmYBY"
   },
   "source": [
    "## Data Range"
   ]
  },
  {
   "cell_type": "markdown",
   "id": "964e3a86",
   "metadata": {
    "id": "jJOxVdLemYBY"
   },
   "source": [
    "Create a pandas daterange where starting date is 1st of January,2020 and end date is 1st of April 2021, store it in a new variable named 'a'"
   ]
  },
  {
   "cell_type": "code",
   "execution_count": 19,
   "id": "80561191",
   "metadata": {
    "id": "Nvx8f5GTmYBZ"
   },
   "outputs": [],
   "source": [
    "# a = \n",
    "\n"
   ]
  },
  {
   "cell_type": "markdown",
   "id": "494b9b95",
   "metadata": {
    "id": "ybvAMVSzmYBZ"
   },
   "source": [
    "print a"
   ]
  },
  {
   "cell_type": "code",
   "execution_count": null,
   "id": "bb9dfa8b",
   "metadata": {
    "id": "TOe-Alj8mYBZ",
    "outputId": "a0e830f7-6826-4082-98c4-cc02bcfe43f3"
   },
   "outputs": [],
   "source": [
    "\n",
    "\n"
   ]
  },
  {
   "cell_type": "markdown",
   "id": "b2960874",
   "metadata": {
    "id": "vI1gctGmmYBZ"
   },
   "source": [
    "What is the len of a?"
   ]
  },
  {
   "cell_type": "code",
   "execution_count": null,
   "id": "31216af9",
   "metadata": {
    "id": "D66uR7vDmYBZ",
    "outputId": "c3fcbc58-7b57-4cf8-bc44-85303b525c6e"
   },
   "outputs": [],
   "source": [
    "\n",
    "\n"
   ]
  },
  {
   "cell_type": "markdown",
   "id": "80dfe061",
   "metadata": {
    "id": "MQvcL-SImYBZ"
   },
   "source": [
    "What is the type of a?"
   ]
  },
  {
   "cell_type": "code",
   "execution_count": null,
   "id": "47f2ce86",
   "metadata": {
    "id": "cnb8Z0CXmYBZ",
    "outputId": "a72dc4cd-5225-4098-8084-900f69caeb81"
   },
   "outputs": [],
   "source": [
    "\n",
    "\n",
    "\n"
   ]
  },
  {
   "cell_type": "code",
   "execution_count": null,
   "id": "4d4ada49",
   "metadata": {},
   "outputs": [],
   "source": []
  }
 ],
 "metadata": {
  "colab": {
   "collapsed_sections": [],
   "provenance": []
  },
  "kernelspec": {
   "display_name": "Python 3 (ipykernel)",
   "language": "python",
   "name": "python3"
  },
  "language_info": {
   "codemirror_mode": {
    "name": "ipython",
    "version": 3
   },
   "file_extension": ".py",
   "mimetype": "text/x-python",
   "name": "python",
   "nbconvert_exporter": "python",
   "pygments_lexer": "ipython3",
   "version": "3.10.9"
  }
 },
 "nbformat": 4,
 "nbformat_minor": 5
}
